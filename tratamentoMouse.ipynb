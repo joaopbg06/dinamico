{
 "cells": [
  {
   "cell_type": "code",
   "execution_count": 132,
   "metadata": {},
   "outputs": [],
   "source": [
    "import pandas as pd\n",
    "\n",
    "df = pd.read_excel('mouses.xlsx')\n",
    "df = df.rename(columns={'preco': 'preco_total'})"
   ]
  },
  {
   "cell_type": "code",
   "execution_count": 142,
   "metadata": {},
   "outputs": [
    {
     "data": {
      "text/html": [
       "<div>\n",
       "<style scoped>\n",
       "    .dataframe tbody tr th:only-of-type {\n",
       "        vertical-align: middle;\n",
       "    }\n",
       "\n",
       "    .dataframe tbody tr th {\n",
       "        vertical-align: top;\n",
       "    }\n",
       "\n",
       "    .dataframe thead th {\n",
       "        text-align: right;\n",
       "    }\n",
       "</style>\n",
       "<table border=\"1\" class=\"dataframe\">\n",
       "  <thead>\n",
       "    <tr style=\"text-align: right;\">\n",
       "      <th></th>\n",
       "      <th>nome</th>\n",
       "      <th>preco_total</th>\n",
       "      <th>parcelas</th>\n",
       "      <th>valor</th>\n",
       "      <th>juros</th>\n",
       "      <th>cor_principal</th>\n",
       "    </tr>\n",
       "  </thead>\n",
       "  <tbody>\n",
       "    <tr>\n",
       "      <th>0</th>\n",
       "      <td>Mouse gamer redragon cobra, chroma rgb, 10000d...</td>\n",
       "      <td>109.99</td>\n",
       "      <td>5</td>\n",
       "      <td>25.88</td>\n",
       "      <td>19.41</td>\n",
       "      <td>preto</td>\n",
       "    </tr>\n",
       "    <tr>\n",
       "      <th>1</th>\n",
       "      <td>Mouse gamer redragon predator, chroma rgb, 800...</td>\n",
       "      <td>99.99</td>\n",
       "      <td>4</td>\n",
       "      <td>29.41</td>\n",
       "      <td>17.65</td>\n",
       "      <td>preto</td>\n",
       "    </tr>\n",
       "    <tr>\n",
       "      <th>2</th>\n",
       "      <td>Mouse gamer sem fio redragon storm pro, rgb, 1...</td>\n",
       "      <td>189.99</td>\n",
       "      <td>8</td>\n",
       "      <td>27.94</td>\n",
       "      <td>33.53</td>\n",
       "      <td>preto</td>\n",
       "    </tr>\n",
       "    <tr>\n",
       "      <th>3</th>\n",
       "      <td>Mouse gamer redragon cobra, chroma rgb, 10000d...</td>\n",
       "      <td>105.99</td>\n",
       "      <td>4</td>\n",
       "      <td>31.17</td>\n",
       "      <td>18.69</td>\n",
       "      <td>branco</td>\n",
       "    </tr>\n",
       "    <tr>\n",
       "      <th>4</th>\n",
       "      <td>Mouse gamer logitech g203 lightsync rgb, efeit...</td>\n",
       "      <td>119.99</td>\n",
       "      <td>5</td>\n",
       "      <td>28.23</td>\n",
       "      <td>21.16</td>\n",
       "      <td>preto</td>\n",
       "    </tr>\n",
       "    <tr>\n",
       "      <th>...</th>\n",
       "      <td>...</td>\n",
       "      <td>...</td>\n",
       "      <td>...</td>\n",
       "      <td>...</td>\n",
       "      <td>...</td>\n",
       "      <td>...</td>\n",
       "    </tr>\n",
       "    <tr>\n",
       "      <th>933</th>\n",
       "      <td>Mouse nacon wired gaming mouse gm-105red - opt...</td>\n",
       "      <td>196.18</td>\n",
       "      <td>9</td>\n",
       "      <td>25.64</td>\n",
       "      <td>34.58</td>\n",
       "      <td>vermelho</td>\n",
       "    </tr>\n",
       "    <tr>\n",
       "      <th>934</th>\n",
       "      <td>Mouse gamer havit ms1008, rgb, 3200 dpi, 7 botões</td>\n",
       "      <td>68.40</td>\n",
       "      <td>2</td>\n",
       "      <td>36.00</td>\n",
       "      <td>3.60</td>\n",
       "      <td>não identificada</td>\n",
       "    </tr>\n",
       "    <tr>\n",
       "      <th>935</th>\n",
       "      <td>Mouse gamer c3tech 2400dpi c/ iluminação preto...</td>\n",
       "      <td>41.29</td>\n",
       "      <td>1</td>\n",
       "      <td>41.29</td>\n",
       "      <td>0.00</td>\n",
       "      <td>preto</td>\n",
       "    </tr>\n",
       "    <tr>\n",
       "      <th>936</th>\n",
       "      <td>Mouse usb gamer zyron 12800 dpi rgb black pmgz...</td>\n",
       "      <td>112.41</td>\n",
       "      <td>4</td>\n",
       "      <td>31.22</td>\n",
       "      <td>12.47</td>\n",
       "      <td>preto</td>\n",
       "    </tr>\n",
       "    <tr>\n",
       "      <th>937</th>\n",
       "      <td>Mouse gamer aula mountain s12, 3500 dpi - preto</td>\n",
       "      <td>43.39</td>\n",
       "      <td>2</td>\n",
       "      <td>25.52</td>\n",
       "      <td>7.65</td>\n",
       "      <td>preto</td>\n",
       "    </tr>\n",
       "  </tbody>\n",
       "</table>\n",
       "<p>938 rows × 6 columns</p>\n",
       "</div>"
      ],
      "text/plain": [
       "                                                  nome  preco_total  parcelas  \\\n",
       "0    Mouse gamer redragon cobra, chroma rgb, 10000d...       109.99         5   \n",
       "1    Mouse gamer redragon predator, chroma rgb, 800...        99.99         4   \n",
       "2    Mouse gamer sem fio redragon storm pro, rgb, 1...       189.99         8   \n",
       "3    Mouse gamer redragon cobra, chroma rgb, 10000d...       105.99         4   \n",
       "4    Mouse gamer logitech g203 lightsync rgb, efeit...       119.99         5   \n",
       "..                                                 ...          ...       ...   \n",
       "933  Mouse nacon wired gaming mouse gm-105red - opt...       196.18         9   \n",
       "934  Mouse gamer havit ms1008, rgb, 3200 dpi, 7 botões        68.40         2   \n",
       "935  Mouse gamer c3tech 2400dpi c/ iluminação preto...        41.29         1   \n",
       "936  Mouse usb gamer zyron 12800 dpi rgb black pmgz...       112.41         4   \n",
       "937    Mouse gamer aula mountain s12, 3500 dpi - preto        43.39         2   \n",
       "\n",
       "     valor  juros     cor_principal  \n",
       "0    25.88  19.41             preto  \n",
       "1    29.41  17.65             preto  \n",
       "2    27.94  33.53             preto  \n",
       "3    31.17  18.69            branco  \n",
       "4    28.23  21.16             preto  \n",
       "..     ...    ...               ...  \n",
       "933  25.64  34.58          vermelho  \n",
       "934  36.00   3.60  não identificada  \n",
       "935  41.29   0.00             preto  \n",
       "936  31.22  12.47             preto  \n",
       "937  25.52   7.65             preto  \n",
       "\n",
       "[938 rows x 6 columns]"
      ]
     },
     "metadata": {},
     "output_type": "display_data"
    }
   ],
   "source": [
    "display(df)\n",
    "# print(df.info())"
   ]
  },
  {
   "cell_type": "code",
   "execution_count": 134,
   "metadata": {},
   "outputs": [],
   "source": [
    "# transformando preco_total  de string para float\n",
    "\n",
    "df['preco_total'] = df['preco_total'].str.replace(\"R$ \", \"\", regex=False).str.replace(\".\", \"\").str.replace(\",\", \".\").astype(float)\n"
   ]
  },
  {
   "cell_type": "code",
   "execution_count": 135,
   "metadata": {},
   "outputs": [],
   "source": [
    "# retirando o \\n das parcelas\n",
    "\n",
    "df['parcelas'] = df['parcelas'].str.replace(\"\\n\", \" \").str.replace(\"À vista no PIX ou até \", \"\")"
   ]
  },
  {
   "cell_type": "code",
   "execution_count": 136,
   "metadata": {},
   "outputs": [
    {
     "name": "stderr",
     "output_type": "stream",
     "text": [
      "<>:4: SyntaxWarning: invalid escape sequence '\\.'\n",
      "<>:4: SyntaxWarning: invalid escape sequence '\\.'\n",
      "C:\\Users\\46492449860\\AppData\\Local\\Temp\\ipykernel_18608\\1821938742.py:4: SyntaxWarning: invalid escape sequence '\\.'\n",
      "  df['valor'] = df['valor'].replace({',': '.', '\\.': ''}, regex=True).astype(float)\n"
     ]
    }
   ],
   "source": [
    "# dividindo a quantidade de parcelas e o valor\n",
    "\n",
    "df['valor'] = df['parcelas'].str.extract(r'R\\$ ([\\d.,]+)')\n",
    "df['valor'] = df['valor'].replace({',': '.', '\\.': ''}, regex=True).astype(float)\n",
    "\n",
    "df['parcelas'] = df['parcelas'].str.extract(r'(\\d+)x').astype(int)"
   ]
  },
  {
   "cell_type": "code",
   "execution_count": 137,
   "metadata": {},
   "outputs": [],
   "source": [
    "# criando uma coluna para saber o juros se parcelado\n",
    "\n",
    "total_parcelado = df['parcelas'] * df['valor']\n",
    "df['juros'] = total_parcelado - df['preco_total']\n"
   ]
  },
  {
   "cell_type": "code",
   "execution_count": 138,
   "metadata": {},
   "outputs": [],
   "source": [
    "# padronizando o nome\n",
    "\n",
    "df['nome'] = df['nome'].str.capitalize().str.strip()"
   ]
  },
  {
   "cell_type": "code",
   "execution_count": 139,
   "metadata": {},
   "outputs": [
    {
     "name": "stdout",
     "output_type": "stream",
     "text": [
      "364\n"
     ]
    }
   ],
   "source": [
    "# Identificando as cores\n",
    "\n",
    "cores = [\n",
    "    'amarelo', 'amarela', 'yellow',\n",
    "    'azul', 'blue',\n",
    "    'branco', 'branca', 'white',\n",
    "    'cinza', 'gray', 'grey',\n",
    "    'laranja', 'orange',\n",
    "    'marrom', 'brown',\n",
    "    'preto', 'preta', 'black',\n",
    "    'rosa', 'pink',\n",
    "    'roxo', 'roxa', 'purple',\n",
    "    'verde', 'green',\n",
    "    'vermelho', 'vermelha', 'red', 'prata', 'mercury',\n",
    "    'ciano', 'cyan', 'uva', 'geada', 'grafite', 'silver', 'vinho', 'bege', 'alumínio', 'ouro', 'grape'\n",
    "]\n",
    "\n",
    "\n",
    "def achar_cor(texto):\n",
    "    for cor in cores:\n",
    "        if cor in texto:\n",
    "            return cor\n",
    "    return 'Não identificada'\n",
    "\n",
    "df['cor_principal'] = df['nome'].apply(achar_cor)\n",
    "\n",
    "print(len(df[df['cor_principal'] == 'Não identificada']))"
   ]
  },
  {
   "cell_type": "code",
   "execution_count": 140,
   "metadata": {},
   "outputs": [],
   "source": [
    "# Padronizando a cor \n",
    "df['cor_principal'] = df['cor_principal'].str.lower().str.strip()\n",
    "\n",
    "df['cor_principal'] = df['cor_principal'].str.replace(\"preta\", \"preto\").str.replace(\"branca\", \"branco\").str.replace(\"vermelha\", \"vermelho\")\n",
    "df['cor_principal'] = df['cor_principal'].str.replace(\"roxa\", \"roxo\") .str.replace(\"amarela\", \"amarelo\").str.replace(\"blue\", \"azul\")\n",
    "df['cor_principal'] = df['cor_principal'].str.replace(\"yellow\", \"amarelo\") .str.replace(\"white\", \"branco\").str.replace(\"gray\", \"cinza\")\n",
    "df['cor_principal'] = df['cor_principal'].str.replace(\"orange\", \"laranja\") .str.replace(\"brown\", \"marrom\").str.replace(\"black\", \"preto\")\n",
    "df['cor_principal'] = df['cor_principal'].str.replace(\"pink\", \"rosa\") .str.replace(\"purple\", \"roxo\").str.replace(\"green\", \"verde\")\n",
    "df['cor_principal'] = df['cor_principal'].str.replace(\"red\", \"vermelho\").str.replace(\"uva\", \"roxo\").str.replace(\"geada\", \"branco\")  \n",
    "df['cor_principal'] = df['cor_principal'].str.replace(\"grafite\", \"preto\").str.replace(\"silver\", \"cinza\").str.replace(\"prata\", \"cinza\")  \n",
    "df['cor_principal'] = df['cor_principal'].str.replace(\"vinho\", \"vermelho\").str.replace(\"alumínio\", \"cinza\").str.replace(\"ouro\", \"amarelo\")\n",
    "df['cor_principal'] = df['cor_principal'].str.replace(\"grape\", \"roxo\").str.replace(\"mercury\", \"cinza\")  \n",
    "\n"
   ]
  }
 ],
 "metadata": {
  "kernelspec": {
   "display_name": "Python 3",
   "language": "python",
   "name": "python3"
  },
  "language_info": {
   "codemirror_mode": {
    "name": "ipython",
    "version": 3
   },
   "file_extension": ".py",
   "mimetype": "text/x-python",
   "name": "python",
   "nbconvert_exporter": "python",
   "pygments_lexer": "ipython3",
   "version": "3.12.1"
  }
 },
 "nbformat": 4,
 "nbformat_minor": 2
}
