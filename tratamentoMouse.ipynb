{
 "cells": [
  {
   "cell_type": "code",
   "execution_count": 2,
   "metadata": {},
   "outputs": [],
   "source": [
    "import pandas as pd\n",
    "\n",
    "df = pd.read_excel('mouses.xlsx')\n",
    "df = df.rename(columns={'preco': 'preco_total'})"
   ]
  },
  {
   "cell_type": "code",
   "execution_count": 3,
   "metadata": {},
   "outputs": [
    {
     "data": {
      "text/html": [
       "<div>\n",
       "<style scoped>\n",
       "    .dataframe tbody tr th:only-of-type {\n",
       "        vertical-align: middle;\n",
       "    }\n",
       "\n",
       "    .dataframe tbody tr th {\n",
       "        vertical-align: top;\n",
       "    }\n",
       "\n",
       "    .dataframe thead th {\n",
       "        text-align: right;\n",
       "    }\n",
       "</style>\n",
       "<table border=\"1\" class=\"dataframe\">\n",
       "  <thead>\n",
       "    <tr style=\"text-align: right;\">\n",
       "      <th></th>\n",
       "      <th>nome</th>\n",
       "      <th>preco_total</th>\n",
       "      <th>parcelas</th>\n",
       "    </tr>\n",
       "  </thead>\n",
       "  <tbody>\n",
       "    <tr>\n",
       "      <th>0</th>\n",
       "      <td>Mouse Gamer Redragon Cobra, Chroma RGB, 10000D...</td>\n",
       "      <td>R$ 109,99</td>\n",
       "      <td>À vista no PIX\\nou até\\n5x de R$ 25,88</td>\n",
       "    </tr>\n",
       "    <tr>\n",
       "      <th>1</th>\n",
       "      <td>Mouse Gamer Redragon Predator, Chroma RGB, 800...</td>\n",
       "      <td>R$ 99,99</td>\n",
       "      <td>À vista no PIX\\nou até\\n4x de R$ 29,41</td>\n",
       "    </tr>\n",
       "    <tr>\n",
       "      <th>2</th>\n",
       "      <td>Mouse Gamer Sem Fio Redragon Storm Pro, RGB, 1...</td>\n",
       "      <td>R$ 189,99</td>\n",
       "      <td>À vista no PIX\\nou até\\n8x de R$ 27,94</td>\n",
       "    </tr>\n",
       "    <tr>\n",
       "      <th>3</th>\n",
       "      <td>Mouse Gamer Redragon Cobra, Chroma RGB, 10000D...</td>\n",
       "      <td>R$ 105,99</td>\n",
       "      <td>À vista no PIX\\nou até\\n4x de R$ 31,17</td>\n",
       "    </tr>\n",
       "    <tr>\n",
       "      <th>4</th>\n",
       "      <td>Mouse Gamer Logitech G203 LIGHTSYNC RGB, Efeit...</td>\n",
       "      <td>R$ 119,99</td>\n",
       "      <td>À vista no PIX\\nou até\\n5x de R$ 28,23</td>\n",
       "    </tr>\n",
       "    <tr>\n",
       "      <th>...</th>\n",
       "      <td>...</td>\n",
       "      <td>...</td>\n",
       "      <td>...</td>\n",
       "    </tr>\n",
       "    <tr>\n",
       "      <th>933</th>\n",
       "      <td>Mouse Nacon Wired Gaming Mouse Gm-105red - Opt...</td>\n",
       "      <td>R$ 196,18</td>\n",
       "      <td>À vista no PIX\\nou até\\n9x de R$ 25,64</td>\n",
       "    </tr>\n",
       "    <tr>\n",
       "      <th>934</th>\n",
       "      <td>Mouse Gamer Havit Ms1008, RGB, 3200 DPI, 7 Botões</td>\n",
       "      <td>R$ 68,40</td>\n",
       "      <td>À vista no PIX\\nou até\\n2x de R$ 36,00</td>\n",
       "    </tr>\n",
       "    <tr>\n",
       "      <th>935</th>\n",
       "      <td>Mouse Gamer C3Tech 2400dpi C/ Iluminação Preto...</td>\n",
       "      <td>R$ 41,29</td>\n",
       "      <td>À vista no PIX\\nou até\\n1x de R$ 41,29</td>\n",
       "    </tr>\n",
       "    <tr>\n",
       "      <th>936</th>\n",
       "      <td>Mouse Usb Gamer Zyron 12800 Dpi Rgb Black Pmgz...</td>\n",
       "      <td>R$ 112,41</td>\n",
       "      <td>À vista no PIX\\nou até\\n4x de R$ 31,22</td>\n",
       "    </tr>\n",
       "    <tr>\n",
       "      <th>937</th>\n",
       "      <td>Mouse Gamer Aula Mountain S12, 3500 DPI - Preto</td>\n",
       "      <td>R$ 43,39</td>\n",
       "      <td>À vista no PIX\\nou até\\n2x de R$ 25,52</td>\n",
       "    </tr>\n",
       "  </tbody>\n",
       "</table>\n",
       "<p>938 rows × 3 columns</p>\n",
       "</div>"
      ],
      "text/plain": [
       "                                                  nome preco_total  \\\n",
       "0    Mouse Gamer Redragon Cobra, Chroma RGB, 10000D...   R$ 109,99   \n",
       "1    Mouse Gamer Redragon Predator, Chroma RGB, 800...    R$ 99,99   \n",
       "2    Mouse Gamer Sem Fio Redragon Storm Pro, RGB, 1...   R$ 189,99   \n",
       "3    Mouse Gamer Redragon Cobra, Chroma RGB, 10000D...   R$ 105,99   \n",
       "4    Mouse Gamer Logitech G203 LIGHTSYNC RGB, Efeit...   R$ 119,99   \n",
       "..                                                 ...         ...   \n",
       "933  Mouse Nacon Wired Gaming Mouse Gm-105red - Opt...   R$ 196,18   \n",
       "934  Mouse Gamer Havit Ms1008, RGB, 3200 DPI, 7 Botões    R$ 68,40   \n",
       "935  Mouse Gamer C3Tech 2400dpi C/ Iluminação Preto...    R$ 41,29   \n",
       "936  Mouse Usb Gamer Zyron 12800 Dpi Rgb Black Pmgz...   R$ 112,41   \n",
       "937    Mouse Gamer Aula Mountain S12, 3500 DPI - Preto    R$ 43,39   \n",
       "\n",
       "                                   parcelas  \n",
       "0    À vista no PIX\\nou até\\n5x de R$ 25,88  \n",
       "1    À vista no PIX\\nou até\\n4x de R$ 29,41  \n",
       "2    À vista no PIX\\nou até\\n8x de R$ 27,94  \n",
       "3    À vista no PIX\\nou até\\n4x de R$ 31,17  \n",
       "4    À vista no PIX\\nou até\\n5x de R$ 28,23  \n",
       "..                                      ...  \n",
       "933  À vista no PIX\\nou até\\n9x de R$ 25,64  \n",
       "934  À vista no PIX\\nou até\\n2x de R$ 36,00  \n",
       "935  À vista no PIX\\nou até\\n1x de R$ 41,29  \n",
       "936  À vista no PIX\\nou até\\n4x de R$ 31,22  \n",
       "937  À vista no PIX\\nou até\\n2x de R$ 25,52  \n",
       "\n",
       "[938 rows x 3 columns]"
      ]
     },
     "metadata": {},
     "output_type": "display_data"
    }
   ],
   "source": [
    "display(df)\n",
    "# print(df.info())"
   ]
  },
  {
   "cell_type": "code",
   "execution_count": 4,
   "metadata": {},
   "outputs": [],
   "source": [
    "# transformando preco_total  de string para float\n",
    "\n",
    "df['preco_total'] = df['preco_total'].str.replace(\"R$ \", \"\", regex=False).str.replace(\".\", \"\").str.replace(\",\", \".\").astype(float)\n"
   ]
  },
  {
   "cell_type": "code",
   "execution_count": 5,
   "metadata": {},
   "outputs": [],
   "source": [
    "# retirando o \\n das parcelas\n",
    "\n",
    "df['parcelas'] = df['parcelas'].str.replace(\"\\n\", \" \").str.replace(\"À vista no PIX ou até \", \"\")"
   ]
  },
  {
   "cell_type": "code",
   "execution_count": 6,
   "metadata": {},
   "outputs": [
    {
     "name": "stderr",
     "output_type": "stream",
     "text": [
      "<>:4: SyntaxWarning: invalid escape sequence '\\.'\n",
      "<>:4: SyntaxWarning: invalid escape sequence '\\.'\n",
      "C:\\Users\\46492449860\\AppData\\Local\\Temp\\ipykernel_15896\\1821938742.py:4: SyntaxWarning: invalid escape sequence '\\.'\n",
      "  df['valor'] = df['valor'].replace({',': '.', '\\.': ''}, regex=True).astype(float)\n"
     ]
    }
   ],
   "source": [
    "# dividindo a quantidade de parcelas e o valor\n",
    "\n",
    "df['valor'] = df['parcelas'].str.extract(r'R\\$ ([\\d.,]+)')\n",
    "df['valor'] = df['valor'].replace({',': '.', '\\.': ''}, regex=True).astype(float)\n",
    "\n",
    "df['parcelas'] = df['parcelas'].str.extract(r'(\\d+)x').astype(int)"
   ]
  },
  {
   "cell_type": "code",
   "execution_count": 7,
   "metadata": {},
   "outputs": [],
   "source": [
    "# criando uma coluna para saber o juros se parcelado\n",
    "\n"
   ]
  },
  {
   "cell_type": "code",
   "execution_count": 8,
   "metadata": {},
   "outputs": [],
   "source": [
    "# padronizando o nome\n",
    "\n",
    "df['nome'] = df['nome'].str.lower().str.strip()"
   ]
  },
  {
   "cell_type": "code",
   "execution_count": 9,
   "metadata": {},
   "outputs": [
    {
     "name": "stdout",
     "output_type": "stream",
     "text": [
      "364\n"
     ]
    }
   ],
   "source": [
    "# Identificando as cores\n",
    "\n",
    "cores = [\n",
    "    'amarelo', 'amarela', 'yellow',\n",
    "    'azul', 'blue',\n",
    "    'branco', 'branca', 'white',\n",
    "    'cinza', 'gray', 'grey',\n",
    "    'laranja', 'orange',\n",
    "    'marrom', 'brown',\n",
    "    'preto', 'preta', 'black',\n",
    "    'rosa', 'pink',\n",
    "    'roxo', 'roxa', 'purple',\n",
    "    'verde', 'green',\n",
    "    'vermelho', 'vermelha', 'red', 'prata', 'mercury',\n",
    "    'ciano', 'cyan', 'uva', 'geada', 'grafite', 'silver', 'vinho', 'bege', 'alumínio', 'ouro', 'grape'\n",
    "]\n",
    "\n",
    "\n",
    "def achar_cor(texto):\n",
    "    for cor in cores:\n",
    "        if cor in texto:\n",
    "            return cor\n",
    "    return 'Não identificada'\n",
    "\n",
    "df['cor_principal'] = df['nome'].apply(achar_cor)\n",
    "\n",
    "print(len(df[df['cor_principal'] == 'Não identificada']))"
   ]
  },
  {
   "cell_type": "code",
   "execution_count": 10,
   "metadata": {},
   "outputs": [],
   "source": [
    "# Padronizando a cor \n",
    "df['cor_principal'] = df['cor_principal'].str.lower().str.strip()\n",
    "\n",
    "df['cor_principal'] = df['cor_principal'].str.replace(\"preta\", \"preto\").str.replace(\"branca\", \"branco\").str.replace(\"vermelha\", \"vermelho\")\n",
    "df['cor_principal'] = df['cor_principal'].str.replace(\"roxa\", \"roxo\") .str.replace(\"amarela\", \"amarelo\").str.replace(\"blue\", \"azul\")\n",
    "df['cor_principal'] = df['cor_principal'].str.replace(\"yellow\", \"amarelo\") .str.replace(\"white\", \"branco\").str.replace(\"gray\", \"cinza\")\n",
    "df['cor_principal'] = df['cor_principal'].str.replace(\"orange\", \"laranja\") .str.replace(\"brown\", \"marrom\").str.replace(\"black\", \"preto\")\n",
    "df['cor_principal'] = df['cor_principal'].str.replace(\"pink\", \"rosa\") .str.replace(\"purple\", \"roxo\").str.replace(\"green\", \"verde\")\n",
    "df['cor_principal'] = df['cor_principal'].str.replace(\"red\", \"vermelho\").str.replace(\"uva\", \"roxo\").str.replace(\"geada\", \"branco\")  \n",
    "df['cor_principal'] = df['cor_principal'].str.replace(\"grafite\", \"preto\").str.replace(\"silver\", \"cinza\").str.replace(\"prata\", \"cinza\")  \n",
    "df['cor_principal'] = df['cor_principal'].str.replace(\"vinho\", \"vermelho\").str.replace(\"alumínio\", \"cinza\").str.replace(\"ouro\", \"amarelo\")\n",
    "df['cor_principal'] = df['cor_principal'].str.replace(\"grape\", \"roxo\").str.replace(\"mercury\", \"cinza\").str.replace('grey', 'cinza')\n",
    "\n"
   ]
  },
  {
   "cell_type": "code",
   "execution_count": 11,
   "metadata": {},
   "outputs": [],
   "source": [
    "# Salvar dados tratados\n",
    "\n",
    "df.to_excel('mouses_limpo.xlsx', index=False)"
   ]
  }
 ],
 "metadata": {
  "kernelspec": {
   "display_name": "Python 3",
   "language": "python",
   "name": "python3"
  },
  "language_info": {
   "codemirror_mode": {
    "name": "ipython",
    "version": 3
   },
   "file_extension": ".py",
   "mimetype": "text/x-python",
   "name": "python",
   "nbconvert_exporter": "python",
   "pygments_lexer": "ipython3",
   "version": "3.12.1"
  }
 },
 "nbformat": 4,
 "nbformat_minor": 2
}
